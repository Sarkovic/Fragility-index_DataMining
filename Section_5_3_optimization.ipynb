{
 "cells": [
  {
   "cell_type": "code",
   "execution_count": 1,
   "metadata": {
    "ExecuteTime": {
     "end_time": "2024-03-29T21:23:38.816673Z",
     "start_time": "2024-03-29T21:23:38.597001Z"
    }
   },
   "outputs": [],
   "source": [
    "import numpy as np\n",
    "import pandas as pd\n",
    "\n",
    "import fragility_index as fi\n",
    "\n",
    "from sklearn.model_selection import train_test_split\n",
    "from sklearn.preprocessing import StandardScaler\n",
    "from sklearn.linear_model import LogisticRegression\n",
    "from sklearn.discriminant_analysis import LinearDiscriminantAnalysis\n",
    "from sklearn.pipeline import make_pipeline\n",
    "from sklearn.svm import LinearSVC\n"
   ]
  },
  {
   "cell_type": "code",
   "execution_count": 2,
   "metadata": {
    "ExecuteTime": {
     "end_time": "2024-03-29T21:27:14.174496Z",
     "start_time": "2024-03-29T21:23:39.379659Z"
    }
   },
   "outputs": [
    {
     "name": "stdout",
     "output_type": "stream",
     "text": [
      "BreastCancerCoimbra\n",
      "0\n",
      "presolving:\n",
      "   (2.6s) symmetry computation started: requiring (bin +, int +, cont +), (fixed: bin -, int -, cont -)\n",
      "   (2.9s) no symmetry present (symcode time: 0.10)\n",
      "presolving (1 rounds: 1 fast, 1 medium, 1 exhaustive):\n",
      " 0 deleted vars, 0 deleted constraints, 0 added constraints, 27 tightened bounds, 0 added holes, 0 changed sides, 0 changed coefficients\n",
      " 0 implications, 0 cliques\n",
      "presolved problem has 152662 variables (0 bin, 0 int, 0 impl, 152662 cont) and 115015 constraints\n",
      "  77368 constraints of type <linear>\n",
      "  37647 constraints of type <nonlinear>\n",
      "Presolving Time: 2.45\n",
      "\n",
      " time | node  | left  |LP iter|LP it/n|mem/heur|mdpt |vars |cons |rows |cuts |sepa|confs|strbr|  dualbound   | primalbound  |  gap   | compl. \n",
      "* 210s|     1 |     0 |    17 |     - |    LP  |   0 | 227k| 115k| 190k|   0 |  0 |   0 |   0 | 0.000000e+00 | 0.000000e+00 |   0.00%| unknown\n",
      "  210s|     1 |     0 |    17 |     - |  1283M |   0 | 227k| 115k| 190k|   0 |  0 |   0 |   0 | 0.000000e+00 | 0.000000e+00 |   0.00%| unknown\n",
      "\n",
      "SCIP Status        : problem is solved [optimal solution found]\n",
      "Solving Time (sec) : 209.71\n",
      "Solving Nodes      : 1\n",
      "Primal Bound       : +0.00000000000000e+00 (1 solutions)\n",
      "Dual Bound         : +0.00000000000000e+00\n",
      "Gap                : 0.00 %\n"
     ]
    },
    {
     "ename": "AttributeError",
     "evalue": "'pyscipopt.scip.Variable' object has no attribute 'getVal'",
     "output_type": "error",
     "traceback": [
      "\u001B[0;31m---------------------------------------------------------------------------\u001B[0m",
      "\u001B[0;31mAttributeError\u001B[0m                            Traceback (most recent call last)",
      "Cell \u001B[0;32mIn[2], line 54\u001B[0m\n\u001B[1;32m     51\u001B[0m ub_p \u001B[38;5;241m=\u001B[39m data_p\u001B[38;5;241m.\u001B[39mmax(axis\u001B[38;5;241m=\u001B[39m\u001B[38;5;241m0\u001B[39m)\n\u001B[1;32m     52\u001B[0m ub_n \u001B[38;5;241m=\u001B[39m data_n\u001B[38;5;241m.\u001B[39mmax(axis\u001B[38;5;241m=\u001B[39m\u001B[38;5;241m0\u001B[39m)\n\u001B[0;32m---> 54\u001B[0m w_FI \u001B[38;5;241m=\u001B[39m \u001B[43mfi\u001B[49m\u001B[38;5;241;43m.\u001B[39;49m\u001B[43mFI_minimization\u001B[49m\u001B[43m(\u001B[49m\u001B[43mN\u001B[49m\u001B[43m,\u001B[49m\u001B[43mS\u001B[49m\u001B[43m,\u001B[49m\u001B[43mdata_sample\u001B[49m\u001B[43m,\u001B[49m\u001B[43m \u001B[49m\u001B[43mlb_p\u001B[49m\u001B[43m,\u001B[49m\u001B[43mlb_n\u001B[49m\u001B[43m,\u001B[49m\u001B[43mub_p\u001B[49m\u001B[43m,\u001B[49m\u001B[43mub_n\u001B[49m\u001B[43m,\u001B[49m\u001B[43mLogToConsole\u001B[49m\u001B[38;5;241;43m=\u001B[39;49m\u001B[38;5;28;43;01mFalse\u001B[39;49;00m\u001B[43m)\u001B[49m\n\u001B[1;32m     55\u001B[0m w_bAUC \u001B[38;5;241m=\u001B[39m fi\u001B[38;5;241m.\u001B[39mbAUC(N,S,data_sample,LogToConsole\u001B[38;5;241m=\u001B[39m\u001B[38;5;28;01mFalse\u001B[39;00m) \n\u001B[1;32m     56\u001B[0m \u001B[38;5;66;03m# np.savez(f'./Split_BCC/w_bbc_seed_{_seed}', w_FI=w_FI, w_bAUC=w_bAUC)\u001B[39;00m\n\u001B[1;32m     57\u001B[0m \u001B[38;5;66;03m# clf_lr = LogisticRegression(random_state=0)\u001B[39;00m\n\u001B[1;32m     58\u001B[0m \u001B[38;5;66;03m# clf_lr.fit(X_sample, y_sample)\u001B[39;00m\n\u001B[0;32m   (...)\u001B[0m\n\u001B[1;32m     61\u001B[0m \u001B[38;5;66;03m# clf_lsvm = make_pipeline(StandardScaler(), LinearSVC(random_state=0, tol=1e-5))\u001B[39;00m\n\u001B[1;32m     62\u001B[0m \u001B[38;5;66;03m# clf_lsvm.fit(X_sample, y_sample)\u001B[39;00m\n",
      "File \u001B[0;32m~/Documents/UIU - Study Documents/9th Trimester/CSE 4891 Data Mining/Fragility-index_DataMining/fragility_index.py:244\u001B[0m, in \u001B[0;36mFI_minimization\u001B[0;34m(N, S, data_sample, lb_p, lb_n, ub_p, ub_n, LogToConsole)\u001B[0m\n\u001B[1;32m    242\u001B[0m w_solu \u001B[38;5;241m=\u001B[39m np\u001B[38;5;241m.\u001B[39mzeros(N)\n\u001B[1;32m    243\u001B[0m \u001B[38;5;28;01mfor\u001B[39;00m n \u001B[38;5;129;01min\u001B[39;00m \u001B[38;5;28mrange\u001B[39m(N):\n\u001B[0;32m--> 244\u001B[0m     w_solu[n] \u001B[38;5;241m=\u001B[39m \u001B[43mw\u001B[49m\u001B[43m[\u001B[49m\u001B[43mn\u001B[49m\u001B[43m]\u001B[49m\u001B[38;5;241;43m.\u001B[39;49m\u001B[43mgetVal\u001B[49m()\n\u001B[1;32m    246\u001B[0m \u001B[38;5;28;01mreturn\u001B[39;00m w_solu\n",
      "\u001B[0;31mAttributeError\u001B[0m: 'pyscipopt.scip.Variable' object has no attribute 'getVal'"
     ]
    }
   ],
   "source": [
    "result = pd.DataFrame(columns = [\"Data_name\",\"Model_name\",\"Probability\",\"Mean\",\"Std\",\"VaR%95\",\"CVaR%95\",\"VaR%99\",\"CVaR%99\"])\n",
    "\n",
    "\n",
    "data_name_list = ['BreastCancerCoimbra','LiverDisorders', 'LiverPatient']\n",
    "# data_name_list = ['BreastCancerCoimbra']\n",
    "\n",
    "        \n",
    "for data_name in data_name_list: \n",
    "    print(data_name)\n",
    "    x,y = fi.Data_load(data_name)  \n",
    "    \n",
    "    for _seed in range(20):\n",
    "        print(_seed)\n",
    "        np.random.seed(_seed) \n",
    "        X_sample, X_test, y_sample, y_test = train_test_split(x, y, test_size=0.2)\n",
    "        # np.savez(f'./Split_BCC/split_bcc_seed_{_seed}', x_train=X_sample, x_test=X_test, y_train=y_sample, y_test=y_test)\n",
    "        \n",
    "        scaler = StandardScaler()\n",
    "        X_sample = scaler.fit_transform(X_sample)\n",
    "        X_test = scaler.transform(X_test)\n",
    "        \n",
    "        data_p = X_sample[y_sample==1,:]\n",
    "        data_n = X_sample[y_sample==-1,:]\n",
    "        data_test_p = X_test[y_test==1,:]\n",
    "        data_test_n = X_test[y_test==-1,:]\n",
    "        \n",
    "        N = X_sample.shape[1]   # number of attribute\n",
    "        \n",
    "        M_p = data_p.shape[0]\n",
    "        M_n = data_n.shape[0]\n",
    "        S = M_p * M_n        \n",
    "        \n",
    "        M_test_p = data_test_p.shape[0]\n",
    "        M_test_n = data_test_n.shape[0]\n",
    "        S_test = M_test_p*M_test_n\n",
    "        \n",
    "        data_sample = np.zeros((S, 2*N))\n",
    "        for i in range(M_p):\n",
    "            for j in range(M_n):\n",
    "                data_sample[i * M_n + j,:N] = data_p[i,:]\n",
    "                data_sample[i * M_n + j,N:] = data_n[j,:]\n",
    "                       \n",
    "        data_test = np.zeros((S_test, 2*N))\n",
    "        for i in range(M_test_p):\n",
    "            for j in range(M_test_n):\n",
    "                data_test[i * M_test_n + j,:N] = data_test_p[i,:]\n",
    "                data_test[i * M_test_n + j,N:] = data_test_n[j,:]\n",
    "        \n",
    "        lb_p = data_p.min(axis=0)\n",
    "        lb_n = data_n.min(axis=0)\n",
    "        ub_p = data_p.max(axis=0)\n",
    "        ub_n = data_n.max(axis=0)\n",
    "\n",
    "        w_FI = fi.FI_minimization(N,S,data_sample, lb_p,lb_n,ub_p,ub_n,LogToConsole=False)\n",
    "        w_bAUC = fi.bAUC(N,S,data_sample,LogToConsole=False) \n",
    "        # np.savez(f'./Split_BCC/w_bbc_seed_{_seed}', w_FI=w_FI, w_bAUC=w_bAUC)\n",
    "        # clf_lr = LogisticRegression(random_state=0)\n",
    "        # clf_lr.fit(X_sample, y_sample)\n",
    "        # clf_lda = LinearDiscriminantAnalysis()\n",
    "        # clf_lda.fit(X_sample, y_sample)\n",
    "        # clf_lsvm = make_pipeline(StandardScaler(), LinearSVC(random_state=0, tol=1e-5))\n",
    "        # clf_lsvm.fit(X_sample, y_sample)\n",
    "\n",
    "        result_FI = fi.performance(data_name,\"FI\",w_FI,N,S_test,data_test) \n",
    "        result_bAUC = fi.performance(data_name,\"bAUC\",w_bAUC,N,S_test,data_test)\n",
    "        # result_lr = fi.performance_of_error(data_name, 'LR', fi.calculate_error(clf_lr, X_test, y_test)) \n",
    "        # result_lda = fi.performance_of_error(data_name, 'LDA', fi.calculate_error(clf_lda, X_test, y_test))\n",
    "        # result_lsvm = fi.performance_of_error(data_name, 'LSVM', fi.calculate_error(clf_lsvm, X_test, y_test))     \n",
    "                \n",
    "        result = pd.concat([result, result_FI, result_bAUC]) \n",
    "        # result = pd.concat([result_lr])\n",
    "        \n",
    "\n",
    "result.groupby(['Data_name', 'Model_name']).mean().reset_index()"
   ]
  },
  {
   "cell_type": "code",
   "execution_count": 3,
   "metadata": {
    "ExecuteTime": {
     "end_time": "2024-03-29T21:35:22.569430Z",
     "start_time": "2024-03-29T21:35:22.557678Z"
    }
   },
   "outputs": [
    {
     "data": {
      "text/plain": "Empty DataFrame\nColumns: [Data_name, Model_name, Probability, Mean, Std, VaR%95, CVaR%95, VaR%99, CVaR%99]\nIndex: []",
      "text/html": "<div>\n<style scoped>\n    .dataframe tbody tr th:only-of-type {\n        vertical-align: middle;\n    }\n\n    .dataframe tbody tr th {\n        vertical-align: top;\n    }\n\n    .dataframe thead th {\n        text-align: right;\n    }\n</style>\n<table border=\"1\" class=\"dataframe\">\n  <thead>\n    <tr style=\"text-align: right;\">\n      <th></th>\n      <th>Data_name</th>\n      <th>Model_name</th>\n      <th>Probability</th>\n      <th>Mean</th>\n      <th>Std</th>\n      <th>VaR%95</th>\n      <th>CVaR%95</th>\n      <th>VaR%99</th>\n      <th>CVaR%99</th>\n    </tr>\n  </thead>\n  <tbody>\n  </tbody>\n</table>\n</div>"
     },
     "execution_count": 3,
     "metadata": {},
     "output_type": "execute_result"
    }
   ],
   "source": [
    "result"
   ]
  },
  {
   "cell_type": "code",
   "execution_count": 4,
   "metadata": {
    "ExecuteTime": {
     "end_time": "2024-03-29T21:35:26.126421Z",
     "start_time": "2024-03-29T21:35:26.116658Z"
    }
   },
   "outputs": [
    {
     "data": {
      "text/plain": "Empty DataFrame\nColumns: [Data_name, Model_name, Probability, Mean, Std, VaR%95, CVaR%95, VaR%99, CVaR%99]\nIndex: []",
      "text/html": "<div>\n<style scoped>\n    .dataframe tbody tr th:only-of-type {\n        vertical-align: middle;\n    }\n\n    .dataframe tbody tr th {\n        vertical-align: top;\n    }\n\n    .dataframe thead th {\n        text-align: right;\n    }\n</style>\n<table border=\"1\" class=\"dataframe\">\n  <thead>\n    <tr style=\"text-align: right;\">\n      <th></th>\n      <th>Data_name</th>\n      <th>Model_name</th>\n      <th>Probability</th>\n      <th>Mean</th>\n      <th>Std</th>\n      <th>VaR%95</th>\n      <th>CVaR%95</th>\n      <th>VaR%99</th>\n      <th>CVaR%99</th>\n    </tr>\n  </thead>\n  <tbody>\n  </tbody>\n</table>\n</div>"
     },
     "execution_count": 4,
     "metadata": {},
     "output_type": "execute_result"
    }
   ],
   "source": [
    "result_BCC_LD_ILDP = result.groupby(['Data_name', 'Model_name']).mean().reset_index()\n",
    "result_BCC_LD_ILDP"
   ]
  },
  {
   "cell_type": "code",
   "outputs": [],
   "source": [],
   "metadata": {
    "collapsed": false,
    "ExecuteTime": {
     "end_time": "2024-03-29T21:35:28.081605Z",
     "start_time": "2024-03-29T21:35:28.079290Z"
    }
   },
   "execution_count": 4
  },
  {
   "cell_type": "code",
   "outputs": [],
   "source": [],
   "metadata": {
    "collapsed": false
   },
   "execution_count": null
  }
 ],
 "metadata": {
  "kernelspec": {
   "display_name": "base",
   "language": "python",
   "name": "python3"
  },
  "language_info": {
   "codemirror_mode": {
    "name": "ipython",
    "version": 3
   },
   "file_extension": ".py",
   "mimetype": "text/x-python",
   "name": "python",
   "nbconvert_exporter": "python",
   "pygments_lexer": "ipython3",
   "version": "3.9.13"
  },
  "orig_nbformat": 4,
  "vscode": {
   "interpreter": {
    "hash": "a63c9a35a8681f170ab50013c6d8457cc66d636fd4d36e4ce7c1000ffd150646"
   }
  }
 },
 "nbformat": 4,
 "nbformat_minor": 2
}
